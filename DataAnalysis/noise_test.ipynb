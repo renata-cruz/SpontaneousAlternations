{
 "cells": [
  {
   "cell_type": "markdown",
   "metadata": {},
   "source": [
    "In this test, we feed noise to the *noise_removal* funcion and see if the output is correct. In this case, all entries/rows should be replaced to False(0)."
   ]
  },
  {
   "cell_type": "code",
   "execution_count": null,
   "metadata": {},
   "outputs": [],
   "source": [
    "import pandas as pd"
   ]
  },
  {
   "cell_type": "code",
   "execution_count": null,
   "metadata": {},
   "outputs": [],
   "source": [
    "# Load the data\n",
    "\n",
    "col_names_arms = ['A', 'B','C', 'center', 'n_arms', 'timepoint']\n",
    "arm_name = ['A', 'B', 'C']\n",
    "\n",
    "arms = pd.read_csv('/mnt/c/Users/admin/OneDrive/Ambiente de Trabalho/Behavior/RawData/arms_52732021-10-15T14_35_27.csv', names = col_names_arms)"
   ]
  },
  {
   "cell_type": "code",
   "execution_count": null,
   "metadata": {},
   "outputs": [],
   "source": [
    "# Encode True/False statements to binary code 1/0\n",
    "\n",
    "bool_cols = arms.select_dtypes(bool)\n",
    "arms[bool_cols.columns] = bool_cols.astype(int)\n",
    "\n",
    "print(arms.head())"
   ]
  },
  {
   "cell_type": "code",
   "execution_count": null,
   "metadata": {},
   "outputs": [],
   "source": [
    "print(arms.shape)\n",
    "arms.head()"
   ]
  },
  {
   "cell_type": "code",
   "execution_count": null,
   "metadata": {},
   "outputs": [],
   "source": [
    "# Change all entries with a high frequency of condition switchs (ex: 0-1-0) to 'False (0)'. These represent noise in the data.\n",
    "\n",
    "def noise_removal(df, size):\n",
    "    '''This function will set a window of a given size to roll though the dataframe according to the rows.\n",
    "    -> size of the window;\n",
    "    If the median value of the window is 0 (False), it will change any values in the array to 0. If the median value is 1 (True), the array remains unchanged.\n",
    "    Ex: \n",
    "        In: [0-1-0] Out: [0-0-0] # Median = 0\n",
    "        In: [0-1-1] Out: [0-1-1] # Median = 1\n",
    "    '''\n",
    "    df_median = df.rolling(size, axis=0, center=True, min_periods=1).median()\n",
    "    \n",
    "    for cols_df, cols_med in zip(df.columns, df_median.columns):\n",
    "        df[cols_df].mask((df[cols_df] == 1) & (df_median[cols_med] < 1), 0, inplace=True)\n",
    "    \n",
    "    return df"
   ]
  }
 ],
 "metadata": {
  "language_info": {
   "name": "python"
  },
  "orig_nbformat": 4
 },
 "nbformat": 4,
 "nbformat_minor": 2
}
