{
 "cells": [
  {
   "cell_type": "markdown",
   "id": "1e32d844",
   "metadata": {},
   "source": [
    "# Spontaneous Alternation Task: Y-Maze\n",
    "\n",
    "#### Renata Cruz"
   ]
  },
  {
   "cell_type": "markdown",
   "id": "c2ddef93",
   "metadata": {},
   "source": [
    "Behavioral experiment to test short-term memory which takes advantage of the innate exploratory behavior of mice. In short, we use a three-arm Y-maze and record the entries and alternations to the different arms. The arms would be labelled A-B-C.\n",
    "\n",
    "Entries: All 4 limbs of a mouse are within an arm;\n",
    "Alternations: Consecutive entries into all three arms;"
   ]
  },
  {
   "cell_type": "markdown",
   "id": "635847da",
   "metadata": {},
   "source": [
    "### Loading Dataset and Preprocessing"
   ]
  },
  {
   "cell_type": "markdown",
   "id": "e91fe4e1",
   "metadata": {},
   "source": [
    "For the preprocessing, we need to separate the habituation (first 2 minutes) from the trial (8 minutes). We also need to remove the noise in the entries and the NaNs in the tracking."
   ]
  },
  {
   "cell_type": "code",
   "execution_count": 1,
   "id": "61ec54f1",
   "metadata": {},
   "outputs": [],
   "source": [
    "import pandas as pd\n",
    "import numpy as np\n",
    "import matplotlib.pyplot as plt"
   ]
  },
  {
   "cell_type": "code",
   "execution_count": 2,
   "id": "9d5e178e",
   "metadata": {},
   "outputs": [],
   "source": [
    "# Load the data\n",
    "\n",
    "col_names_arms = ['A', 'B','C', 'center', 'n_arms', 'timepoint']\n",
    "arm_name = ['A', 'B', 'C']\n",
    "\n",
    "arms = pd.read_csv('/mnt/c/Users/admin/OneDrive/Ambiente de Trabalho/Behavior/RawData/arms_52732021-10-15T14_35_27.csv', names = col_names_arms)"
   ]
  },
  {
   "cell_type": "code",
   "execution_count": 3,
   "id": "2d47746a",
   "metadata": {
    "scrolled": false
   },
   "outputs": [
    {
     "name": "stdout",
     "output_type": "stream",
     "text": [
      "(16787, 6)\n"
     ]
    },
    {
     "data": {
      "text/html": [
       "<div>\n",
       "<style scoped>\n",
       "    .dataframe tbody tr th:only-of-type {\n",
       "        vertical-align: middle;\n",
       "    }\n",
       "\n",
       "    .dataframe tbody tr th {\n",
       "        vertical-align: top;\n",
       "    }\n",
       "\n",
       "    .dataframe thead th {\n",
       "        text-align: right;\n",
       "    }\n",
       "</style>\n",
       "<table border=\"1\" class=\"dataframe\">\n",
       "  <thead>\n",
       "    <tr style=\"text-align: right;\">\n",
       "      <th></th>\n",
       "      <th>A</th>\n",
       "      <th>B</th>\n",
       "      <th>C</th>\n",
       "      <th>center</th>\n",
       "      <th>n_arms</th>\n",
       "      <th>timepoint</th>\n",
       "    </tr>\n",
       "  </thead>\n",
       "  <tbody>\n",
       "    <tr>\n",
       "      <th>0</th>\n",
       "      <td>True</td>\n",
       "      <td>True</td>\n",
       "      <td>True</td>\n",
       "      <td>True</td>\n",
       "      <td>4</td>\n",
       "      <td>2021-10-15T14:35:27.9840256+01:00</td>\n",
       "    </tr>\n",
       "    <tr>\n",
       "      <th>1</th>\n",
       "      <td>False</td>\n",
       "      <td>False</td>\n",
       "      <td>False</td>\n",
       "      <td>False</td>\n",
       "      <td>4</td>\n",
       "      <td>2021-10-15T14:35:28.0618752+01:00</td>\n",
       "    </tr>\n",
       "    <tr>\n",
       "      <th>2</th>\n",
       "      <td>False</td>\n",
       "      <td>False</td>\n",
       "      <td>False</td>\n",
       "      <td>False</td>\n",
       "      <td>4</td>\n",
       "      <td>2021-10-15T14:35:28.0951296+01:00</td>\n",
       "    </tr>\n",
       "    <tr>\n",
       "      <th>3</th>\n",
       "      <td>False</td>\n",
       "      <td>False</td>\n",
       "      <td>False</td>\n",
       "      <td>False</td>\n",
       "      <td>4</td>\n",
       "      <td>2021-10-15T14:35:28.1381888+01:00</td>\n",
       "    </tr>\n",
       "    <tr>\n",
       "      <th>4</th>\n",
       "      <td>False</td>\n",
       "      <td>False</td>\n",
       "      <td>False</td>\n",
       "      <td>False</td>\n",
       "      <td>4</td>\n",
       "      <td>2021-10-15T14:35:28.1644800+01:00</td>\n",
       "    </tr>\n",
       "  </tbody>\n",
       "</table>\n",
       "</div>"
      ],
      "text/plain": [
       "       A      B      C  center  n_arms                          timepoint\n",
       "0   True   True   True    True       4  2021-10-15T14:35:27.9840256+01:00\n",
       "1  False  False  False   False       4  2021-10-15T14:35:28.0618752+01:00\n",
       "2  False  False  False   False       4  2021-10-15T14:35:28.0951296+01:00\n",
       "3  False  False  False   False       4  2021-10-15T14:35:28.1381888+01:00\n",
       "4  False  False  False   False       4  2021-10-15T14:35:28.1644800+01:00"
      ]
     },
     "execution_count": 3,
     "metadata": {},
     "output_type": "execute_result"
    }
   ],
   "source": [
    "print(arms.shape)\n",
    "arms.head()"
   ]
  },
  {
   "cell_type": "code",
   "execution_count": 4,
   "id": "b8544df7",
   "metadata": {},
   "outputs": [
    {
     "name": "stdout",
     "output_type": "stream",
     "text": [
      "   A  B  C  center  n_arms                          timepoint\n",
      "0  1  1  1       1       4  2021-10-15T14:35:27.9840256+01:00\n",
      "1  0  0  0       0       4  2021-10-15T14:35:28.0618752+01:00\n",
      "2  0  0  0       0       4  2021-10-15T14:35:28.0951296+01:00\n",
      "3  0  0  0       0       4  2021-10-15T14:35:28.1381888+01:00\n",
      "4  0  0  0       0       4  2021-10-15T14:35:28.1644800+01:00\n"
     ]
    }
   ],
   "source": [
    "# Encode True/False statements to binary code 1/0\n",
    "\n",
    "bool_cols = arms.select_dtypes(bool)\n",
    "arms[bool_cols.columns] = bool_cols.astype(int)\n",
    "\n",
    "print(arms.head())"
   ]
  },
  {
   "cell_type": "markdown",
   "id": "ee591aaf",
   "metadata": {},
   "source": [
    "#### Arms Dataset: Habituation & Experiment"
   ]
  },
  {
   "cell_type": "code",
   "execution_count": 5,
   "id": "70f6e5f6",
   "metadata": {},
   "outputs": [
    {
     "name": "stdout",
     "output_type": "stream",
     "text": [
      "       A  B  C  center  n_arms                          timepoint\n",
      "16782  0  0  0       1       4  2021-10-15T14:44:47.2701184+01:00\n",
      "16783  0  0  0       1       4  2021-10-15T14:44:47.3030784+01:00\n",
      "16784  0  0  0       1       4  2021-10-15T14:44:47.3364480+01:00\n",
      "16785  0  0  0       1       4  2021-10-15T14:44:47.3752320+01:00\n",
      "16786  0  0  0       1       4  2021-10-15T14:44:47.4083328+01:00\n"
     ]
    },
    {
     "name": "stderr",
     "output_type": "stream",
     "text": [
      "/tmp/ipykernel_522/2674597472.py:4: SettingWithCopyWarning: \n",
      "A value is trying to be set on a copy of a slice from a DataFrame\n",
      "\n",
      "See the caveats in the documentation: https://pandas.pydata.org/pandas-docs/stable/user_guide/indexing.html#returning-a-view-versus-a-copy\n",
      "  arms[arm][arms['center'] == 1] = 0\n"
     ]
    }
   ],
   "source": [
    "# Change all entries that include the center and where no entry is detected to 'False (0)'. This will maintain the number of frames constant\n",
    "\n",
    "for arm in arm_name:\n",
    "    arms[arm][arms['center'] == 1] = 0\n",
    "\n",
    "print(arms.tail())"
   ]
  },
  {
   "cell_type": "code",
   "execution_count": 56,
   "id": "a83d4cad",
   "metadata": {},
   "outputs": [],
   "source": [
    "# Change all entries with a high frequency of condition switchs (ex: 0-1-0) to 'False (0)'. These represent noise in the data.\n",
    "\n",
    "def noise_removal(df, size):\n",
    "    '''This function will set a window of a given size to roll though the dataframe according to the rows.\n",
    "    -> size of the window;\n",
    "    If the median value of the window is 0 (False), it will change any values in the array to 0. If the median value is 1 (True), the array remains unchanged.\n",
    "    Ex: \n",
    "        In: [0-1-0] Out: [0-0-0] # Median = 0\n",
    "        In: [0-1-1] Out: [0-1-1] # Median = 1\n",
    "    '''\n",
    "    df_median = df.rolling(size, axis=0, center=True, min_periods=1).median()\n",
    "    \n",
    "    for cols_df, cols_med in zip(df.columns, df_median.columns):\n",
    "        df[cols_df].mask((df[cols_df] == 1) & (df_median[cols_med] < 1), 0, inplace=True)\n",
    "    \n",
    "    return df\n"
   ]
  },
  {
   "cell_type": "code",
   "execution_count": 46,
   "id": "17a161a5",
   "metadata": {},
   "outputs": [],
   "source": [
    "# Change all entries with a high frequency of condition switchs (ex: 0-1-0) to 'False (0)'. These represent noise in the data\n",
    "\n",
    "def groups(l):\n",
    "    '''Group the entries sequencially and count them\n",
    "    Ex: An array [0,0,1,1,1,0,1,0,1,1,1,1] returns [2,3,1,1,1,4].\n",
    "    '''\n",
    "    return [sum(g) for i, g in groupby(l) if i == 1]\n"
   ]
  },
  {
   "cell_type": "code",
   "execution_count": 47,
   "id": "ff7454fd",
   "metadata": {},
   "outputs": [
    {
     "data": {
      "image/png": "[encoded data removed]",
      "text/plain": [
       "<Figure size 1440x360 with 3 Axes>"
      ]
     },
     "metadata": {
      "needs_background": "light"
     },
     "output_type": "display_data"
    }
   ],
   "source": [
    "f, ax = plt.subplots(1, 3, figsize=(20, 5))\n",
    "\n",
    "ax[0].hist(groups(arms['A']))\n",
    "ax[1].hist(groups(arms['B']))\n",
    "ax[2].hist(groups(arms['C']))\n",
    "\n",
    "plt.suptitle('Frequency of Sequencial Entries During Trial', fontsize=18)\n",
    "plt.show()"
   ]
  },
  {
   "cell_type": "code",
   "execution_count": 48,
   "id": "ecfee49e",
   "metadata": {},
   "outputs": [
    {
     "name": "stdout",
     "output_type": "stream",
     "text": [
      "[14, 157, 182, 89, 36, 93, 140, 39, 105, 66, 89, 177, 45, 138, 55, 91, 111, 18, 47, 2, 33, 73, 10, 28, 31, 102, 16, 1, 7, 3, 2, 1, 8, 9, 112, 2, 24, 13, 1, 3, 1, 1, 156, 27, 200, 324, 183, 101, 158, 65, 163, 145, 221, 90]\n"
     ]
    }
   ],
   "source": [
    "# Setting a threshold of 30 since the framerate is 30fps\n",
    "\n"
   ]
  },
  {
   "cell_type": "code",
   "execution_count": null,
   "id": "8c8c5d38",
   "metadata": {},
   "outputs": [],
   "source": []
  },
  {
   "cell_type": "markdown",
   "id": "1977c070",
   "metadata": {},
   "source": [
    "We need settle the time of the experiment to exclude the placement of the mouse in the maze. Also, we have to separate the habituation time from the trial."
   ]
  },
  {
   "cell_type": "code",
   "execution_count": 15,
   "id": "18d9f2fd",
   "metadata": {},
   "outputs": [
    {
     "name": "stdout",
     "output_type": "stream",
     "text": [
      "3600\n",
      "Habituation Time (min) 2.0\n",
      "10800\n",
      "Experiment Time (min) 6.0\n"
     ]
    }
   ],
   "source": [
    "frames_per_sec = 30 \n",
    "\n",
    "total_time = 8*60*frames_per_sec\n",
    "hab_time = 2*60*frames_per_sec\n",
    "exp_time = 6*60*frames_per_sec\n",
    "\n",
    "# Delete the first rows corresponding to the placement of the animal\n",
    "\n",
    "placement_time = arms.shape[0] - total_time\n",
    "arms.drop(arms.index[:placement_time], inplace=True)\n",
    "\n",
    "# Separate habituation (hab) and experiment (exp) starting from the last frame up. (last frame -> 6 min before +  6min -> 8 min before) \n",
    "\n",
    "hab = arms.head(hab_time)\n",
    "exp = arms.tail(exp_time)\n",
    "\n",
    "print(hab.shape[0])\n",
    "print('Habituation Time (min)', (hab.shape[0]/30)/60)\n",
    "print(exp.shape[0])\n",
    "print('Experiment Time (min)', (exp.shape[0]/30)/60)\n"
   ]
  },
  {
   "cell_type": "markdown",
   "id": "744dd6e7",
   "metadata": {},
   "source": [
    "### Spontaneous Alternations "
   ]
  },
  {
   "cell_type": "markdown",
   "id": "52a58bf4",
   "metadata": {},
   "source": [
    "To calculate the alternations percentage, we should use the following formula:\n",
    "\n",
    "**%alternations** = $100 \\frac{nº of alterations}{total nº of arm entries} $\n",
    "\n",
    "A high **%alternations** should indicate a good short-term memory while a low **%alternations** suggests a poor short-term memory."
   ]
  },
  {
   "cell_type": "code",
   "execution_count": null,
   "id": "b2098ea6",
   "metadata": {},
   "outputs": [],
   "source": []
  }
 ],
 "metadata": {
  "kernelspec": {
   "display_name": "Python 3",
   "language": "python",
   "name": "python3"
  },
  "language_info": {
   "codemirror_mode": {
    "name": "ipython",
    "version": 3
   },
   "file_extension": ".py",
   "mimetype": "text/x-python",
   "name": "python",
   "nbconvert_exporter": "python",
   "pygments_lexer": "ipython3",
   "version": "3.8.10"
  }
 },
 "nbformat": 4,
 "nbformat_minor": 5
}
